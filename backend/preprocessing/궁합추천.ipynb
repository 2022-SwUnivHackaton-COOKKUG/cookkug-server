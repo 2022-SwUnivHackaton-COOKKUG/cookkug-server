{
 "cells": [
  {
   "cell_type": "markdown",
   "id": "5c307a26",
   "metadata": {},
   "source": [
    "# Data preprocessing"
   ]
  },
  {
   "cell_type": "code",
   "execution_count": 71,
   "id": "190eae5c",
   "metadata": {
    "ExecuteTime": {
     "end_time": "2022-06-23T12:06:50.582376Z",
     "start_time": "2022-06-23T12:06:32.154384Z"
    }
   },
   "outputs": [
    {
     "name": "stderr",
     "output_type": "stream",
     "text": [
      "C:\\Users\\Public\\Documents\\ESTsoft\\CreatorTemp\\ipykernel_26180\\937241487.py:22: DtypeWarning: Columns (4,5) have mixed types. Specify dtype option on import or set low_memory=False.\n",
      "  df = pd.read_csv(file)[['메뉴명', '식당(ID)']]\n"
     ]
    }
   ],
   "source": [
    "import re\n",
    "import pandas as pd\n",
    "from glob import glob\n",
    "\n",
    "\n",
    "files = glob('메뉴데이터/*.csv')\n",
    "\n",
    "def clear_menu(menu):\n",
    "    patterns = [\n",
    "        ('\\([^(]*\\)', ''),\n",
    "        ('[0-9].*', ''),\n",
    "        ('\\u119e', ''),\n",
    "        ('\\xe9', '')\n",
    "    ]\n",
    "    \n",
    "    for pat, change in patterns:\n",
    "        menu = re.sub(pat, change, menu)\n",
    "    return menu\n",
    "\n",
    "dfs = []\n",
    "for file in files:\n",
    "    try: \n",
    "        df = pd.read_csv(file)[['메뉴명', '식당(ID)']]\n",
    "        df = df.rename(columns={'식당(ID)' : '식당ID'})\n",
    "    except:\n",
    "        df = pd.read_csv(file)[['메뉴명', '식당ID']]\n",
    "        \n",
    "    df['메뉴명'] = df['메뉴명'].apply(lambda x: clear_menu(x))\n",
    "    dfs.append(df)\n",
    "    \n",
    "for idx, df in enumerate(dfs):\n",
    "    df['식당ID'] = df['식당ID'].apply(lambda x: f'{idx}_{x}')\n",
    "df = pd.concat(dfs)\n",
    "\n",
    "typos = [\n",
    "    ('복음', '볶음'),\n",
    "    ('짬뽕면', '짬뽕'),\n",
    "]\n",
    "\n",
    "for typo in typos:\n",
    "    df['메뉴명'] = df['메뉴명'].apply(lambda x : x.replace(typo[0], typo[1]))\n",
    "\n",
    "removals = ['추가', '사리', '넓적당면', '넙적당면', '삶은달걀', '메추리알', '쫀득치즈', '토핑', '세트']\n",
    "for removal in removals:\n",
    "    df = df[~df['메뉴명'].str.contains(removal)].reset_index(drop=True)\n",
    "df = df.drop_duplicates()\n",
    "\n",
    "menus = df.groupby('식당ID')['메뉴명'].apply(list)\n",
    "with open('menus.txt', mode='w', encoding='utf-8') as f:\n",
    "    for menu in menus:\n",
    "        f.write(' '.join(menu)+'\\n')"
   ]
  },
  {
   "cell_type": "markdown",
   "id": "0d44d487",
   "metadata": {},
   "source": [
    "# Fasttext "
   ]
  },
  {
   "cell_type": "code",
   "execution_count": 173,
   "id": "2643e202",
   "metadata": {
    "ExecuteTime": {
     "end_time": "2022-06-23T15:04:37.452184Z",
     "start_time": "2022-06-23T15:04:20.666375Z"
    }
   },
   "outputs": [],
   "source": [
    "import fasttext\n",
    "model = fasttext.train_unsupervised('menus.txt', model='skipgram', dim=10)"
   ]
  },
  {
   "cell_type": "code",
   "execution_count": 234,
   "id": "91bfe9a5",
   "metadata": {
    "ExecuteTime": {
     "end_time": "2022-06-23T16:51:44.080991Z",
     "start_time": "2022-06-23T16:51:43.790993Z"
    }
   },
   "outputs": [],
   "source": [
    "model.save_model('fasttext.bin')"
   ]
  },
  {
   "cell_type": "code",
   "execution_count": null,
   "id": "5447763a",
   "metadata": {},
   "outputs": [],
   "source": [
    "'''\n",
    "fasttext 구함 -> 테이블에서 단어가 포함되는 요리명 구함 -> recipe2vec에서 유사도 구함 ->\n",
    "유사도가 너무 높은 경우 제외 -> 다음 단어 확인.. -> recipe2vec 유사도가 낮은 경우 궁합 요리로 추가\n",
    "'''"
   ]
  },
  {
   "cell_type": "markdown",
   "id": "e1d57706",
   "metadata": {},
   "source": [
    "# make recipe2combi vec"
   ]
  },
  {
   "cell_type": "code",
   "execution_count": 196,
   "id": "904f2fde",
   "metadata": {
    "ExecuteTime": {
     "end_time": "2022-06-23T16:10:32.865737Z",
     "start_time": "2022-06-23T16:10:23.925727Z"
    }
   },
   "outputs": [
    {
     "data": {
      "text/plain": [
       "['recipe2combi.dict']"
      ]
     },
     "execution_count": 196,
     "metadata": {},
     "output_type": "execute_result"
    }
   ],
   "source": [
    "import joblib\n",
    "\n",
    "recipe = joblib.load('crawling.df')\n",
    "recipe2combi = recipe[['레시피일련번호', '요리명']].copy()\n",
    "recipe2combi = recipe2combi.set_index('레시피일련번호')\n",
    "recipe2combi['요리명'] = recipe2combi['요리명'].apply(lambda x: model[x])\n",
    "recipe2combi = recipe2combi.to_dict()['요리명']\n",
    "joblib.dump(recipe2combi, 'recipe2combi.dict')"
   ]
  }
 ],
 "metadata": {
  "kernelspec": {
   "display_name": "Python 3 (ipykernel)",
   "language": "python",
   "name": "python3"
  },
  "language_info": {
   "codemirror_mode": {
    "name": "ipython",
    "version": 3
   },
   "file_extension": ".py",
   "mimetype": "text/x-python",
   "name": "python",
   "nbconvert_exporter": "python",
   "pygments_lexer": "ipython3",
   "version": "3.9.2"
  },
  "toc": {
   "base_numbering": 1,
   "nav_menu": {},
   "number_sections": true,
   "sideBar": true,
   "skip_h1_title": false,
   "title_cell": "Table of Contents",
   "title_sidebar": "Contents",
   "toc_cell": false,
   "toc_position": {},
   "toc_section_display": true,
   "toc_window_display": false
  },
  "varInspector": {
   "cols": {
    "lenName": 16,
    "lenType": 16,
    "lenVar": 40
   },
   "kernels_config": {
    "python": {
     "delete_cmd_postfix": "",
     "delete_cmd_prefix": "del ",
     "library": "var_list.py",
     "varRefreshCmd": "print(var_dic_list())"
    },
    "r": {
     "delete_cmd_postfix": ") ",
     "delete_cmd_prefix": "rm(",
     "library": "var_list.r",
     "varRefreshCmd": "cat(var_dic_list()) "
    }
   },
   "types_to_exclude": [
    "module",
    "function",
    "builtin_function_or_method",
    "instance",
    "_Feature"
   ],
   "window_display": false
  }
 },
 "nbformat": 4,
 "nbformat_minor": 5
}
