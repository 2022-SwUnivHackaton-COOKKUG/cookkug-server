{
 "cells": [
  {
   "cell_type": "code",
   "execution_count": null,
   "metadata": {},
   "outputs": [],
   "source": [
    "import joblib\n",
    "import pandas as pd\n",
    "\n",
    "recipe = joblib.load('preprocessed.df')"
   ]
  },
  {
   "cell_type": "code",
   "execution_count": null,
   "metadata": {},
   "outputs": [],
   "source": [
    "from tqdm import tqdm\n",
    "\n",
    "def crawling(recipe_id):\n",
    "    url = f'https://www.10000recipe.com/recipe/{recipe_id}'\n",
    "    response = requests.get(url)\n",
    "    html = response.text\n",
    "    soup = BeautifulSoup(html, 'html.parser')    \n",
    "    src = soup.find(attrs={'id':'main_thumbs'}).get('src')\n",
    "    seq = [row.text for row in soup.find_all(attrs={'class':'media-body'})]\n",
    "    \n",
    "    return src, seq\n",
    "\n",
    "\n",
    "for idx, recipe_id in tqdm(recipe['레시피일련번호'].iteritems(), total=len(recipe)):\n",
    "    src, seq = crawling(recipe_id)\n",
    "    recipe.loc[idx, '이미지'] = src\n",
    "    recipe.loc[idx, '조리순서'] = str(seq)"
   ]
  }
 ],
 "metadata": {
  "kernelspec": {
   "display_name": "Python 3.9.12 ('project': conda)",
   "language": "python",
   "name": "python3"
  },
  "language_info": {
   "name": "python",
   "version": "3.9.12"
  },
  "orig_nbformat": 4,
  "vscode": {
   "interpreter": {
    "hash": "744bc4e4beca3014e62fb63d96885ffe6c6e1b8bbccd63581f614cf51c8b0e00"
   }
  }
 },
 "nbformat": 4,
 "nbformat_minor": 2
}
